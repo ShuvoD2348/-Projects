{
 "cells": [
  {
   "cell_type": "code",
   "execution_count": 44,
   "metadata": {},
   "outputs": [],
   "source": [
    "import numpy as np\n",
    "import random\n",
    "import sklearn.metrics as metrics\n",
    "import pandas as pd\n",
    "import matplotlib.pyplot as plt\n",
    "import seaborn as sns\n",
    "import warnings\n",
    "import pandas as pd\n",
    "import numpy as np\n",
    "import matplotlib.pyplot as plt\n",
    "import seaborn as sns\n",
    "import random\n",
    "from sklearn.linear_model import LinearRegression\n",
    "from sklearn.model_selection import train_test_split\n",
    "from sklearn.linear_model import LogisticRegression\n",
    "\n",
    "warnings.filterwarnings('ignore')\n",
    "from sklearn.model_selection import train_test_split"
   ]
  },
  {
   "cell_type": "code",
   "execution_count": 45,
   "metadata": {},
   "outputs": [],
   "source": [
    "from sklearn.model_selection import train_test_split\n",
    "from sklearn.linear_model import LogisticRegression\n",
    "from sklearn import svm\n",
    "from sklearn.ensemble import RandomForestClassifier\n",
    "from sklearn.tree import DecisionTreeClassifier"
   ]
  },
  {
   "cell_type": "code",
   "execution_count": 46,
   "metadata": {},
   "outputs": [],
   "source": [
    "from sklearn.metrics import classification_report,confusion_matrix,accuracy_score"
   ]
  },
  {
   "cell_type": "markdown",
   "metadata": {},
   "source": [
    "### Dataset is based on an original student performance dataset provided on Kaggle\n",
    "\n",
    "https://www.kaggle.com/impapan/student-performance-data-set\n"
   ]
  },
  {
   "cell_type": "raw",
   "metadata": {},
   "source": [
    "Description of attributes:\n",
    "\n",
    "1 school - student's school (binary: \"GP\" - Gabriel Pereira or \"MS\" - Mousinho da Silveira)\n",
    "2 sex - student's sex (binary: \"F\" - female or \"M\" - male)\n",
    "3 age - student's age (numeric: from 15 to 22)\n",
    "4 address - student's home address type (binary: \"U\" - urban or \"R\" - rural)\n",
    "5 famsize - family size (binary: \"LE3\" - less or equal to 3 or \"GT3\" - greater than 3)\n",
    "6 Pstatus - parent's cohabitation status (binary: \"T\" - living together or \"A\" - apart)\n",
    "7 Medu - mother's education (numeric: 0 - none,  1 - primary education (4th grade), 2 – 5th to 9th grade, 3 – secondary education or 4 – higher education)\n",
    "8 Fedu - father's education (numeric: 0 - none,  1 - primary education (4th grade), 2 – 5th to 9th grade, 3 – secondary education or 4 – higher education)\n",
    "9 Mjob - mother's job (nominal: \"teacher\", \"health\" care related, civil \"services\" (e.g. administrative or police), \"at_home\" or \"other\")\n",
    "10 Fjob - father's job (nominal: \"teacher\", \"health\" care related, civil \"services\" (e.g. administrative or police), \"at_home\" or \"other\")\n",
    "11 reason - reason to choose this school (nominal: close to \"home\", school \"reputation\", \"course\" preference or \"other\")\n",
    "12 guardian - student's guardian (nominal: \"mother\", \"father\" or \"other\")\n",
    "13 traveltime - home to school travel time (numeric: 1 - <15 min., 2 - 15 to 30 min., 3 - 30 min. to 1 hour, or 4 - >1 hour)\n",
    "14 studytime - weekly study time (numeric: 1 - <2 hours, 2 - 2 to 5 hours, 3 - 5 to 10 hours, or 4 - >10 hours)\n",
    "15 failures - number of past class failures (numeric: n if 1<=n<3, else 4)\n",
    "16 schoolsup - extra educational support (binary: yes or no)\n",
    "17 famsup - family educational support (binary: yes or no)\n",
    "18 paid - extra paid classes within the course subject (Math or Portuguese) (binary: yes or no)\n",
    "19 activities - extra-curricular activities (binary: yes or no)\n",
    "20 nursery - attended nursery school (binary: yes or no)\n",
    "21 higher - wants to take higher education (binary: yes or no)\n",
    "22 internet - Internet access at home (binary: yes or no)\n",
    "23 romantic - with a romantic relationship (binary: yes or no)\n",
    "24 famrel - quality of family relationships (numeric: from 1 - very bad to 5 - excellent)\n",
    "25 freetime - free time after school (numeric: from 1 - very low to 5 - very high)\n",
    "26 goout - going out with friends (numeric: from 1 - very low to 5 - very high)\n",
    "27 Dalc - workday alcohol consumption (numeric: from 1 - very low to 5 - very high)\n",
    "28 Walc - weekend alcohol consumption (numeric: from 1 - very low to 5 - very high)\n",
    "29 health - current health status (numeric: from 1 - very bad to 5 - very good)\n",
    "30 absences - number of school absences (numeric: from 0 to 93)\n",
    "    \n"
   ]
  },
  {
   "cell_type": "markdown",
   "metadata": {},
   "source": [
    "### I have modified the original dataset slightly, removed some attributes and include the first term grade from the language course\n"
   ]
  },
  {
   "cell_type": "code",
   "execution_count": 47,
   "metadata": {},
   "outputs": [
    {
     "data": {
      "text/html": [
       "<div>\n",
       "<style scoped>\n",
       "    .dataframe tbody tr th:only-of-type {\n",
       "        vertical-align: middle;\n",
       "    }\n",
       "\n",
       "    .dataframe tbody tr th {\n",
       "        vertical-align: top;\n",
       "    }\n",
       "\n",
       "    .dataframe thead th {\n",
       "        text-align: right;\n",
       "    }\n",
       "</style>\n",
       "<table border=\"1\" class=\"dataframe\">\n",
       "  <thead>\n",
       "    <tr style=\"text-align: right;\">\n",
       "      <th></th>\n",
       "      <th>age</th>\n",
       "      <th>traveltime</th>\n",
       "      <th>studytime</th>\n",
       "      <th>failures</th>\n",
       "      <th>absences</th>\n",
       "      <th>Math_G1</th>\n",
       "      <th>Language_G1</th>\n",
       "      <th>sex</th>\n",
       "      <th>address</th>\n",
       "      <th>famsize</th>\n",
       "      <th>...</th>\n",
       "      <th>paid</th>\n",
       "      <th>activities</th>\n",
       "      <th>higher</th>\n",
       "      <th>internet</th>\n",
       "      <th>famrel</th>\n",
       "      <th>freetime</th>\n",
       "      <th>Dalc</th>\n",
       "      <th>Walc</th>\n",
       "      <th>health</th>\n",
       "      <th>Math_FinalG3</th>\n",
       "    </tr>\n",
       "  </thead>\n",
       "  <tbody>\n",
       "    <tr>\n",
       "      <th>0</th>\n",
       "      <td>18.0</td>\n",
       "      <td>2</td>\n",
       "      <td>2</td>\n",
       "      <td>0</td>\n",
       "      <td>6</td>\n",
       "      <td>5.0</td>\n",
       "      <td>0</td>\n",
       "      <td>F</td>\n",
       "      <td>U</td>\n",
       "      <td>GT3</td>\n",
       "      <td>...</td>\n",
       "      <td>no</td>\n",
       "      <td>no</td>\n",
       "      <td>yes</td>\n",
       "      <td>no</td>\n",
       "      <td>4</td>\n",
       "      <td>3</td>\n",
       "      <td>1</td>\n",
       "      <td>1</td>\n",
       "      <td>3</td>\n",
       "      <td>6</td>\n",
       "    </tr>\n",
       "    <tr>\n",
       "      <th>1</th>\n",
       "      <td>17.0</td>\n",
       "      <td>1</td>\n",
       "      <td>2</td>\n",
       "      <td>0</td>\n",
       "      <td>4</td>\n",
       "      <td>5.0</td>\n",
       "      <td>9</td>\n",
       "      <td>F</td>\n",
       "      <td>U</td>\n",
       "      <td>GT3</td>\n",
       "      <td>...</td>\n",
       "      <td>no</td>\n",
       "      <td>no</td>\n",
       "      <td>yes</td>\n",
       "      <td>yes</td>\n",
       "      <td>5</td>\n",
       "      <td>3</td>\n",
       "      <td>1</td>\n",
       "      <td>1</td>\n",
       "      <td>3</td>\n",
       "      <td>6</td>\n",
       "    </tr>\n",
       "    <tr>\n",
       "      <th>2</th>\n",
       "      <td>15.0</td>\n",
       "      <td>1</td>\n",
       "      <td>2</td>\n",
       "      <td>3</td>\n",
       "      <td>10</td>\n",
       "      <td>7.0</td>\n",
       "      <td>12</td>\n",
       "      <td>F</td>\n",
       "      <td>U</td>\n",
       "      <td>LE3</td>\n",
       "      <td>...</td>\n",
       "      <td>yes</td>\n",
       "      <td>no</td>\n",
       "      <td>yes</td>\n",
       "      <td>yes</td>\n",
       "      <td>4</td>\n",
       "      <td>3</td>\n",
       "      <td>2</td>\n",
       "      <td>3</td>\n",
       "      <td>3</td>\n",
       "      <td>10</td>\n",
       "    </tr>\n",
       "    <tr>\n",
       "      <th>3</th>\n",
       "      <td>15.0</td>\n",
       "      <td>1</td>\n",
       "      <td>3</td>\n",
       "      <td>0</td>\n",
       "      <td>2</td>\n",
       "      <td>15.0</td>\n",
       "      <td>14</td>\n",
       "      <td>F</td>\n",
       "      <td>U</td>\n",
       "      <td>GT3</td>\n",
       "      <td>...</td>\n",
       "      <td>yes</td>\n",
       "      <td>yes</td>\n",
       "      <td>yes</td>\n",
       "      <td>yes</td>\n",
       "      <td>3</td>\n",
       "      <td>2</td>\n",
       "      <td>1</td>\n",
       "      <td>1</td>\n",
       "      <td>5</td>\n",
       "      <td>15</td>\n",
       "    </tr>\n",
       "    <tr>\n",
       "      <th>4</th>\n",
       "      <td>16.0</td>\n",
       "      <td>1</td>\n",
       "      <td>2</td>\n",
       "      <td>0</td>\n",
       "      <td>4</td>\n",
       "      <td>6.0</td>\n",
       "      <td>11</td>\n",
       "      <td>F</td>\n",
       "      <td>U</td>\n",
       "      <td>GT3</td>\n",
       "      <td>...</td>\n",
       "      <td>yes</td>\n",
       "      <td>no</td>\n",
       "      <td>yes</td>\n",
       "      <td>no</td>\n",
       "      <td>4</td>\n",
       "      <td>3</td>\n",
       "      <td>1</td>\n",
       "      <td>2</td>\n",
       "      <td>5</td>\n",
       "      <td>10</td>\n",
       "    </tr>\n",
       "  </tbody>\n",
       "</table>\n",
       "<p>5 rows × 27 columns</p>\n",
       "</div>"
      ],
      "text/plain": [
       "    age  traveltime  studytime  failures  absences  Math_G1  Language_G1 sex  \\\n",
       "0  18.0           2          2         0         6      5.0            0   F   \n",
       "1  17.0           1          2         0         4      5.0            9   F   \n",
       "2  15.0           1          2         3        10      7.0           12   F   \n",
       "3  15.0           1          3         0         2     15.0           14   F   \n",
       "4  16.0           1          2         0         4      6.0           11   F   \n",
       "\n",
       "  address famsize  ... paid  activities  higher internet famrel freetime Dalc  \\\n",
       "0       U     GT3  ...   no          no     yes       no      4        3    1   \n",
       "1       U     GT3  ...   no          no     yes      yes      5        3    1   \n",
       "2       U     LE3  ...  yes          no     yes      yes      4        3    2   \n",
       "3       U     GT3  ...  yes         yes     yes      yes      3        2    1   \n",
       "4       U     GT3  ...  yes          no     yes       no      4        3    1   \n",
       "\n",
       "  Walc health Math_FinalG3  \n",
       "0    1      3            6  \n",
       "1    1      3            6  \n",
       "2    3      3           10  \n",
       "3    1      5           15  \n",
       "4    2      5           10  \n",
       "\n",
       "[5 rows x 27 columns]"
      ]
     },
     "execution_count": 47,
     "metadata": {},
     "output_type": "execute_result"
    }
   ],
   "source": [
    "df = pd.read_csv(\"student_performance_modified.csv\")\n",
    "df.head(5)"
   ]
  },
  {
   "cell_type": "code",
   "execution_count": 48,
   "metadata": {},
   "outputs": [
    {
     "data": {
      "text/plain": [
       "Index(['age', 'traveltime', 'studytime', 'failures', 'absences', 'Math_G1',\n",
       "       'Language_G1', 'sex', 'address', 'famsize', 'Pstatus', 'Medu', 'Fedu',\n",
       "       'Mjob', 'Fjob', 'schoolsup', 'famsup', 'paid', 'activities', 'higher',\n",
       "       'internet', 'famrel', 'freetime', 'Dalc', 'Walc', 'health',\n",
       "       'Math_FinalG3'],\n",
       "      dtype='object')"
      ]
     },
     "execution_count": 48,
     "metadata": {},
     "output_type": "execute_result"
    }
   ],
   "source": [
    "df.columns"
   ]
  },
  {
   "cell_type": "markdown",
   "metadata": {},
   "source": [
    "### First we replace the Math_FinalG3 by a binary label to indicate underperformance"
   ]
  },
  {
   "cell_type": "code",
   "execution_count": 49,
   "metadata": {},
   "outputs": [
    {
     "data": {
      "text/html": [
       "<div>\n",
       "<style scoped>\n",
       "    .dataframe tbody tr th:only-of-type {\n",
       "        vertical-align: middle;\n",
       "    }\n",
       "\n",
       "    .dataframe tbody tr th {\n",
       "        vertical-align: top;\n",
       "    }\n",
       "\n",
       "    .dataframe thead th {\n",
       "        text-align: right;\n",
       "    }\n",
       "</style>\n",
       "<table border=\"1\" class=\"dataframe\">\n",
       "  <thead>\n",
       "    <tr style=\"text-align: right;\">\n",
       "      <th></th>\n",
       "      <th>age</th>\n",
       "      <th>traveltime</th>\n",
       "      <th>studytime</th>\n",
       "      <th>failures</th>\n",
       "      <th>absences</th>\n",
       "      <th>Math_G1</th>\n",
       "      <th>Language_G1</th>\n",
       "      <th>sex</th>\n",
       "      <th>address</th>\n",
       "      <th>famsize</th>\n",
       "      <th>...</th>\n",
       "      <th>paid</th>\n",
       "      <th>activities</th>\n",
       "      <th>higher</th>\n",
       "      <th>internet</th>\n",
       "      <th>famrel</th>\n",
       "      <th>freetime</th>\n",
       "      <th>Dalc</th>\n",
       "      <th>Walc</th>\n",
       "      <th>health</th>\n",
       "      <th>underperformance</th>\n",
       "    </tr>\n",
       "  </thead>\n",
       "  <tbody>\n",
       "    <tr>\n",
       "      <th>0</th>\n",
       "      <td>18.0</td>\n",
       "      <td>2</td>\n",
       "      <td>2</td>\n",
       "      <td>0</td>\n",
       "      <td>6</td>\n",
       "      <td>5.0</td>\n",
       "      <td>0</td>\n",
       "      <td>F</td>\n",
       "      <td>U</td>\n",
       "      <td>GT3</td>\n",
       "      <td>...</td>\n",
       "      <td>no</td>\n",
       "      <td>no</td>\n",
       "      <td>yes</td>\n",
       "      <td>no</td>\n",
       "      <td>4</td>\n",
       "      <td>3</td>\n",
       "      <td>1</td>\n",
       "      <td>1</td>\n",
       "      <td>3</td>\n",
       "      <td>1</td>\n",
       "    </tr>\n",
       "    <tr>\n",
       "      <th>1</th>\n",
       "      <td>17.0</td>\n",
       "      <td>1</td>\n",
       "      <td>2</td>\n",
       "      <td>0</td>\n",
       "      <td>4</td>\n",
       "      <td>5.0</td>\n",
       "      <td>9</td>\n",
       "      <td>F</td>\n",
       "      <td>U</td>\n",
       "      <td>GT3</td>\n",
       "      <td>...</td>\n",
       "      <td>no</td>\n",
       "      <td>no</td>\n",
       "      <td>yes</td>\n",
       "      <td>yes</td>\n",
       "      <td>5</td>\n",
       "      <td>3</td>\n",
       "      <td>1</td>\n",
       "      <td>1</td>\n",
       "      <td>3</td>\n",
       "      <td>1</td>\n",
       "    </tr>\n",
       "    <tr>\n",
       "      <th>2</th>\n",
       "      <td>15.0</td>\n",
       "      <td>1</td>\n",
       "      <td>2</td>\n",
       "      <td>3</td>\n",
       "      <td>10</td>\n",
       "      <td>7.0</td>\n",
       "      <td>12</td>\n",
       "      <td>F</td>\n",
       "      <td>U</td>\n",
       "      <td>LE3</td>\n",
       "      <td>...</td>\n",
       "      <td>yes</td>\n",
       "      <td>no</td>\n",
       "      <td>yes</td>\n",
       "      <td>yes</td>\n",
       "      <td>4</td>\n",
       "      <td>3</td>\n",
       "      <td>2</td>\n",
       "      <td>3</td>\n",
       "      <td>3</td>\n",
       "      <td>0</td>\n",
       "    </tr>\n",
       "    <tr>\n",
       "      <th>3</th>\n",
       "      <td>15.0</td>\n",
       "      <td>1</td>\n",
       "      <td>3</td>\n",
       "      <td>0</td>\n",
       "      <td>2</td>\n",
       "      <td>15.0</td>\n",
       "      <td>14</td>\n",
       "      <td>F</td>\n",
       "      <td>U</td>\n",
       "      <td>GT3</td>\n",
       "      <td>...</td>\n",
       "      <td>yes</td>\n",
       "      <td>yes</td>\n",
       "      <td>yes</td>\n",
       "      <td>yes</td>\n",
       "      <td>3</td>\n",
       "      <td>2</td>\n",
       "      <td>1</td>\n",
       "      <td>1</td>\n",
       "      <td>5</td>\n",
       "      <td>0</td>\n",
       "    </tr>\n",
       "    <tr>\n",
       "      <th>4</th>\n",
       "      <td>16.0</td>\n",
       "      <td>1</td>\n",
       "      <td>2</td>\n",
       "      <td>0</td>\n",
       "      <td>4</td>\n",
       "      <td>6.0</td>\n",
       "      <td>11</td>\n",
       "      <td>F</td>\n",
       "      <td>U</td>\n",
       "      <td>GT3</td>\n",
       "      <td>...</td>\n",
       "      <td>yes</td>\n",
       "      <td>no</td>\n",
       "      <td>yes</td>\n",
       "      <td>no</td>\n",
       "      <td>4</td>\n",
       "      <td>3</td>\n",
       "      <td>1</td>\n",
       "      <td>2</td>\n",
       "      <td>5</td>\n",
       "      <td>0</td>\n",
       "    </tr>\n",
       "  </tbody>\n",
       "</table>\n",
       "<p>5 rows × 27 columns</p>\n",
       "</div>"
      ],
      "text/plain": [
       "    age  traveltime  studytime  failures  absences  Math_G1  Language_G1 sex  \\\n",
       "0  18.0           2          2         0         6      5.0            0   F   \n",
       "1  17.0           1          2         0         4      5.0            9   F   \n",
       "2  15.0           1          2         3        10      7.0           12   F   \n",
       "3  15.0           1          3         0         2     15.0           14   F   \n",
       "4  16.0           1          2         0         4      6.0           11   F   \n",
       "\n",
       "  address famsize  ... paid  activities  higher internet famrel freetime Dalc  \\\n",
       "0       U     GT3  ...   no          no     yes       no      4        3    1   \n",
       "1       U     GT3  ...   no          no     yes      yes      5        3    1   \n",
       "2       U     LE3  ...  yes          no     yes      yes      4        3    2   \n",
       "3       U     GT3  ...  yes         yes     yes      yes      3        2    1   \n",
       "4       U     GT3  ...  yes          no     yes       no      4        3    1   \n",
       "\n",
       "  Walc health underperformance  \n",
       "0    1      3                1  \n",
       "1    1      3                1  \n",
       "2    3      3                0  \n",
       "3    1      5                0  \n",
       "4    2      5                0  \n",
       "\n",
       "[5 rows x 27 columns]"
      ]
     },
     "execution_count": 49,
     "metadata": {},
     "output_type": "execute_result"
    }
   ],
   "source": [
    "df['underperformance'] = df['Math_FinalG3'].apply(lambda x: 1 if x < 9 else 0)\n",
    "df = df.drop(['Math_FinalG3'], axis=1)\n",
    "df.head()"
   ]
  },
  {
   "cell_type": "markdown",
   "metadata": {},
   "source": [
    "### The goal is to  build the best predictive model to predict who would underperform in their final Math Grade so that the school can proactively find ways to help the students"
   ]
  },
  {
   "cell_type": "code",
   "execution_count": 50,
   "metadata": {},
   "outputs": [
    {
     "data": {
      "text/plain": [
       "<AxesSubplot:xlabel='underperformance', ylabel='count'>"
      ]
     },
     "execution_count": 50,
     "metadata": {},
     "output_type": "execute_result"
    },
    {
     "data": {
      "image/png": "[encoded data removed]",
      "text/plain": [
       "<Figure size 432x288 with 1 Axes>"
      ]
     },
     "metadata": {
      "needs_background": "light"
     },
     "output_type": "display_data"
    }
   ],
   "source": [
    "sns.countplot(df['underperformance'])"
   ]
  },
  {
   "cell_type": "markdown",
   "metadata": {},
   "source": [
    "# Checking for any missing values"
   ]
  },
  {
   "cell_type": "code",
   "execution_count": 51,
   "metadata": {},
   "outputs": [
    {
     "data": {
      "text/plain": [
       "(397, 27)"
      ]
     },
     "execution_count": 51,
     "metadata": {},
     "output_type": "execute_result"
    }
   ],
   "source": [
    "\n",
    "df.shape\n"
   ]
  },
  {
   "cell_type": "code",
   "execution_count": 52,
   "metadata": {},
   "outputs": [
    {
     "data": {
      "text/plain": [
       "age                  True\n",
       "traveltime          False\n",
       "studytime           False\n",
       "failures            False\n",
       "absences            False\n",
       "Math_G1              True\n",
       "Language_G1         False\n",
       "sex                 False\n",
       "address             False\n",
       "famsize             False\n",
       "Pstatus             False\n",
       "Medu                False\n",
       "Fedu                False\n",
       "Mjob                False\n",
       "Fjob                False\n",
       "schoolsup           False\n",
       "famsup              False\n",
       "paid                False\n",
       "activities          False\n",
       "higher              False\n",
       "internet            False\n",
       "famrel              False\n",
       "freetime            False\n",
       "Dalc                False\n",
       "Walc                False\n",
       "health              False\n",
       "underperformance    False\n",
       "dtype: bool"
      ]
     },
     "execution_count": 52,
     "metadata": {},
     "output_type": "execute_result"
    }
   ],
   "source": [
    "df.isnull().any()"
   ]
  },
  {
   "cell_type": "code",
   "execution_count": 53,
   "metadata": {},
   "outputs": [
    {
     "data": {
      "text/plain": [
       "(396, 27)"
      ]
     },
     "execution_count": 53,
     "metadata": {},
     "output_type": "execute_result"
    }
   ],
   "source": [
    "df.dropna(inplace=True)\n",
    "df.shape\n"
   ]
  },
  {
   "cell_type": "code",
   "execution_count": 54,
   "metadata": {},
   "outputs": [
    {
     "data": {
      "text/plain": [
       "age                 False\n",
       "traveltime          False\n",
       "studytime           False\n",
       "failures            False\n",
       "absences            False\n",
       "Math_G1             False\n",
       "Language_G1         False\n",
       "sex                 False\n",
       "address             False\n",
       "famsize             False\n",
       "Pstatus             False\n",
       "Medu                False\n",
       "Fedu                False\n",
       "Mjob                False\n",
       "Fjob                False\n",
       "schoolsup           False\n",
       "famsup              False\n",
       "paid                False\n",
       "activities          False\n",
       "higher              False\n",
       "internet            False\n",
       "famrel              False\n",
       "freetime            False\n",
       "Dalc                False\n",
       "Walc                False\n",
       "health              False\n",
       "underperformance    False\n",
       "dtype: bool"
      ]
     },
     "execution_count": 54,
     "metadata": {},
     "output_type": "execute_result"
    }
   ],
   "source": [
    "df.isnull().any()"
   ]
  },
  {
   "cell_type": "markdown",
   "metadata": {},
   "source": [
    "# Removing Outliers"
   ]
  },
  {
   "cell_type": "code",
   "execution_count": 55,
   "metadata": {},
   "outputs": [
    {
     "data": {
      "text/plain": [
       "<AxesSubplot:xlabel='age'>"
      ]
     },
     "execution_count": 55,
     "metadata": {},
     "output_type": "execute_result"
    },
    {
     "data": {
      "image/png": "[encoded data removed]",
      "text/plain": [
       "<Figure size 432x288 with 1 Axes>"
      ]
     },
     "metadata": {
      "needs_background": "light"
     },
     "output_type": "display_data"
    }
   ],
   "source": [
    "sns.boxplot(x=df['age'])\n"
   ]
  },
  {
   "cell_type": "code",
   "execution_count": null,
   "metadata": {},
   "outputs": [],
   "source": []
  },
  {
   "cell_type": "code",
   "execution_count": 56,
   "metadata": {},
   "outputs": [
    {
     "data": {
      "text/plain": [
       "<AxesSubplot:xlabel='age'>"
      ]
     },
     "execution_count": 56,
     "metadata": {},
     "output_type": "execute_result"
    },
    {
     "data": {
      "image/png": "[encoded data removed]",
      "text/plain": [
       "<Figure size 432x288 with 1 Axes>"
      ]
     },
     "metadata": {
      "needs_background": "light"
     },
     "output_type": "display_data"
    }
   ],
   "source": [
    "df=df[df.age <22]\n",
    "sns.boxplot(x=df['age'])\n",
    "\n"
   ]
  },
  {
   "cell_type": "code",
   "execution_count": 57,
   "metadata": {},
   "outputs": [
    {
     "data": {
      "text/plain": [
       "<AxesSubplot:xlabel='traveltime'>"
      ]
     },
     "execution_count": 57,
     "metadata": {},
     "output_type": "execute_result"
    },
    {
     "data": {
      "image/png": "[encoded data removed]",
      "text/plain": [
       "<Figure size 432x288 with 1 Axes>"
      ]
     },
     "metadata": {
      "needs_background": "light"
     },
     "output_type": "display_data"
    }
   ],
   "source": [
    "sns.boxplot(x=df['traveltime'])\n",
    "\n"
   ]
  },
  {
   "cell_type": "code",
   "execution_count": 58,
   "metadata": {},
   "outputs": [
    {
     "data": {
      "text/plain": [
       "<AxesSubplot:xlabel='traveltime'>"
      ]
     },
     "execution_count": 58,
     "metadata": {},
     "output_type": "execute_result"
    },
    {
     "data": {
      "image/png": "[encoded data removed]",
      "text/plain": [
       "<Figure size 432x288 with 1 Axes>"
      ]
     },
     "metadata": {
      "needs_background": "light"
     },
     "output_type": "display_data"
    }
   ],
   "source": [
    "df=df[df.traveltime <4]\n",
    "sns.boxplot(x=df['traveltime'])"
   ]
  },
  {
   "cell_type": "code",
   "execution_count": 59,
   "metadata": {},
   "outputs": [
    {
     "data": {
      "text/plain": [
       "<AxesSubplot:xlabel='studytime'>"
      ]
     },
     "execution_count": 59,
     "metadata": {},
     "output_type": "execute_result"
    },
    {
     "data": {
      "image/png": "[encoded data removed]",
      "text/plain": [
       "<Figure size 432x288 with 1 Axes>"
      ]
     },
     "metadata": {
      "needs_background": "light"
     },
     "output_type": "display_data"
    }
   ],
   "source": [
    "sns.boxplot(x=df['studytime'])\n"
   ]
  },
  {
   "cell_type": "code",
   "execution_count": 60,
   "metadata": {},
   "outputs": [
    {
     "data": {
      "text/plain": [
       "<AxesSubplot:xlabel='absences'>"
      ]
     },
     "execution_count": 60,
     "metadata": {},
     "output_type": "execute_result"
    },
    {
     "data": {
      "image/png": "[encoded data removed]",
      "text/plain": [
       "<Figure size 432x288 with 1 Axes>"
      ]
     },
     "metadata": {
      "needs_background": "light"
     },
     "output_type": "display_data"
    }
   ],
   "source": [
    "sns.boxplot(x=df['absences'])\n"
   ]
  },
  {
   "cell_type": "code",
   "execution_count": 61,
   "metadata": {
    "scrolled": true
   },
   "outputs": [
    {
     "data": {
      "text/plain": [
       "<AxesSubplot:xlabel='absences'>"
      ]
     },
     "execution_count": 61,
     "metadata": {},
     "output_type": "execute_result"
    },
    {
     "data": {
      "image/png": "[encoded data removed]",
      "text/plain": [
       "<Figure size 432x288 with 1 Axes>"
      ]
     },
     "metadata": {
      "needs_background": "light"
     },
     "output_type": "display_data"
    }
   ],
   "source": [
    "df=df[df.absences <50]\n",
    "sns.boxplot(x=df['absences'])"
   ]
  },
  {
   "cell_type": "markdown",
   "metadata": {},
   "source": [
    "# Relationship Between variables"
   ]
  },
  {
   "cell_type": "code",
   "execution_count": 62,
   "metadata": {
    "scrolled": true
   },
   "outputs": [],
   "source": [
    "df_relationship=df[['failures','absences','Math_G1','Language_G1','famrel','Walc','age','traveltime','studytime']]"
   ]
  },
  {
   "cell_type": "code",
   "execution_count": 63,
   "metadata": {},
   "outputs": [
    {
     "data": {
      "text/plain": [
       "<seaborn.axisgrid.PairGrid at 0x22316e62f10>"
      ]
     },
     "execution_count": 63,
     "metadata": {},
     "output_type": "execute_result"
    },
    {
     "data": {
      "image/png": "[encoded data removed]",
      "text/plain": [
       "<Figure size 1620x1620 with 90 Axes>"
      ]
     },
     "metadata": {
      "needs_background": "light"
     },
     "output_type": "display_data"
    }
   ],
   "source": [
    "sns.pairplot(df_relationship)"
   ]
  },
  {
   "cell_type": "code",
   "execution_count": 64,
   "metadata": {},
   "outputs": [
    {
     "data": {
      "text/html": [
       "<div>\n",
       "<style scoped>\n",
       "    .dataframe tbody tr th:only-of-type {\n",
       "        vertical-align: middle;\n",
       "    }\n",
       "\n",
       "    .dataframe tbody tr th {\n",
       "        vertical-align: top;\n",
       "    }\n",
       "\n",
       "    .dataframe thead th {\n",
       "        text-align: right;\n",
       "    }\n",
       "</style>\n",
       "<table border=\"1\" class=\"dataframe\">\n",
       "  <thead>\n",
       "    <tr style=\"text-align: right;\">\n",
       "      <th></th>\n",
       "      <th>age</th>\n",
       "      <th>traveltime</th>\n",
       "      <th>studytime</th>\n",
       "      <th>failures</th>\n",
       "      <th>absences</th>\n",
       "      <th>Math_G1</th>\n",
       "      <th>Language_G1</th>\n",
       "      <th>Medu</th>\n",
       "      <th>Fedu</th>\n",
       "      <th>famrel</th>\n",
       "      <th>freetime</th>\n",
       "      <th>Dalc</th>\n",
       "      <th>Walc</th>\n",
       "      <th>health</th>\n",
       "    </tr>\n",
       "    <tr>\n",
       "      <th>underperformance</th>\n",
       "      <th></th>\n",
       "      <th></th>\n",
       "      <th></th>\n",
       "      <th></th>\n",
       "      <th></th>\n",
       "      <th></th>\n",
       "      <th></th>\n",
       "      <th></th>\n",
       "      <th></th>\n",
       "      <th></th>\n",
       "      <th></th>\n",
       "      <th></th>\n",
       "      <th></th>\n",
       "      <th></th>\n",
       "    </tr>\n",
       "  </thead>\n",
       "  <tbody>\n",
       "    <tr>\n",
       "      <th>0</th>\n",
       "      <td>16.596491</td>\n",
       "      <td>1.364912</td>\n",
       "      <td>2.080702</td>\n",
       "      <td>0.182456</td>\n",
       "      <td>5.245614</td>\n",
       "      <td>12.221053</td>\n",
       "      <td>12.235088</td>\n",
       "      <td>2.842105</td>\n",
       "      <td>2.614035</td>\n",
       "      <td>3.968421</td>\n",
       "      <td>3.217544</td>\n",
       "      <td>1.435088</td>\n",
       "      <td>2.224561</td>\n",
       "      <td>3.508772</td>\n",
       "    </tr>\n",
       "    <tr>\n",
       "      <th>1</th>\n",
       "      <td>16.948980</td>\n",
       "      <td>1.489796</td>\n",
       "      <td>1.918367</td>\n",
       "      <td>0.724490</td>\n",
       "      <td>5.336735</td>\n",
       "      <td>7.336735</td>\n",
       "      <td>11.265306</td>\n",
       "      <td>2.530612</td>\n",
       "      <td>2.316327</td>\n",
       "      <td>3.846939</td>\n",
       "      <td>3.275510</td>\n",
       "      <td>1.469388</td>\n",
       "      <td>2.295918</td>\n",
       "      <td>3.673469</td>\n",
       "    </tr>\n",
       "  </tbody>\n",
       "</table>\n",
       "</div>"
      ],
      "text/plain": [
       "                        age  traveltime  studytime  failures  absences  \\\n",
       "underperformance                                                         \n",
       "0                 16.596491    1.364912   2.080702  0.182456  5.245614   \n",
       "1                 16.948980    1.489796   1.918367  0.724490  5.336735   \n",
       "\n",
       "                    Math_G1  Language_G1      Medu      Fedu    famrel  \\\n",
       "underperformance                                                         \n",
       "0                 12.221053    12.235088  2.842105  2.614035  3.968421   \n",
       "1                  7.336735    11.265306  2.530612  2.316327  3.846939   \n",
       "\n",
       "                  freetime      Dalc      Walc    health  \n",
       "underperformance                                          \n",
       "0                 3.217544  1.435088  2.224561  3.508772  \n",
       "1                 3.275510  1.469388  2.295918  3.673469  "
      ]
     },
     "execution_count": 64,
     "metadata": {},
     "output_type": "execute_result"
    }
   ],
   "source": [
    "df.groupby('underperformance').mean()"
   ]
  },
  {
   "cell_type": "markdown",
   "metadata": {},
   "source": [
    "# This is just to see how big the gap between the variable is when compared to underperformance so you Could see Math_G1is 12.221 to 7.3367 ,Language_G1 is 12.235 to 11.265306 and failures is .18 to .72 so the ratio between them is higher compare to other variables which means they have agreater impact on underperformance variable"
   ]
  },
  {
   "cell_type": "code",
   "execution_count": 65,
   "metadata": {},
   "outputs": [
    {
     "data": {
      "text/plain": [
       "<seaborn.axisgrid.FacetGrid at 0x2231b452ee0>"
      ]
     },
     "execution_count": 65,
     "metadata": {},
     "output_type": "execute_result"
    },
    {
     "data": {
      "image/png": "[encoded data removed]",
      "text/plain": [
       "<Figure size 461.25x360 with 1 Axes>"
      ]
     },
     "metadata": {
      "needs_background": "light"
     },
     "output_type": "display_data"
    }
   ],
   "source": [
    "\n",
    "sns.factorplot('failures',kind='count', hue='underperformance',data=df)"
   ]
  },
  {
   "cell_type": "markdown",
   "metadata": {},
   "source": [
    "# We coulde see The higher the failures the higher the underperformance"
   ]
  },
  {
   "cell_type": "code",
   "execution_count": 66,
   "metadata": {},
   "outputs": [
    {
     "data": {
      "text/plain": [
       "<seaborn.axisgrid.FacetGrid at 0x2231b2a37f0>"
      ]
     },
     "execution_count": 66,
     "metadata": {},
     "output_type": "execute_result"
    },
    {
     "data": {
      "image/png": "[encoded data removed]",
      "text/plain": [
       "<Figure size 461.25x360 with 1 Axes>"
      ]
     },
     "metadata": {
      "needs_background": "light"
     },
     "output_type": "display_data"
    }
   ],
   "source": [
    "sns.factorplot('Walc',kind='count', hue='underperformance',data=df,palette='Set2')"
   ]
  },
  {
   "cell_type": "markdown",
   "metadata": {},
   "source": [
    "# Again the higher the alchool consumption the higher the underperformance , they are correleated"
   ]
  },
  {
   "cell_type": "code",
   "execution_count": 67,
   "metadata": {},
   "outputs": [
    {
     "data": {
      "text/plain": [
       "<seaborn.axisgrid.FacetGrid at 0x2231b1aa460>"
      ]
     },
     "execution_count": 67,
     "metadata": {},
     "output_type": "execute_result"
    },
    {
     "data": {
      "image/png": "[encoded data removed]",
      "text/plain": [
       "<Figure size 461.25x360 with 1 Axes>"
      ]
     },
     "metadata": {
      "needs_background": "light"
     },
     "output_type": "display_data"
    }
   ],
   "source": [
    "sns.factorplot('traveltime',kind='count', hue='underperformance',data=df,palette='husl')"
   ]
  },
  {
   "cell_type": "markdown",
   "metadata": {},
   "source": [
    "# Again we see that higher traveltime means they are more likely to underperform"
   ]
  },
  {
   "cell_type": "code",
   "execution_count": 68,
   "metadata": {},
   "outputs": [
    {
     "data": {
      "text/plain": [
       "<seaborn.axisgrid.FacetGrid at 0x2231bf4ce20>"
      ]
     },
     "execution_count": 68,
     "metadata": {},
     "output_type": "execute_result"
    },
    {
     "data": {
      "image/png": "[encoded data removed]",
      "text/plain": [
       "<Figure size 461.25x360 with 1 Axes>"
      ]
     },
     "metadata": {
      "needs_background": "light"
     },
     "output_type": "display_data"
    }
   ],
   "source": [
    "sns.factorplot('absences',kind='count', hue='underperformance',data=df,palette='Paired')"
   ]
  },
  {
   "cell_type": "markdown",
   "metadata": {},
   "source": [
    "# We see that the more absence some one is they are more liekly to perform bad"
   ]
  },
  {
   "cell_type": "code",
   "execution_count": 69,
   "metadata": {},
   "outputs": [
    {
     "data": {
      "text/plain": [
       "<seaborn.axisgrid.FacetGrid at 0x2231bfea040>"
      ]
     },
     "execution_count": 69,
     "metadata": {},
     "output_type": "execute_result"
    },
    {
     "data": {
      "image/png": "[encoded data removed]",
      "text/plain": [
       "<Figure size 461.25x360 with 1 Axes>"
      ]
     },
     "metadata": {
      "needs_background": "light"
     },
     "output_type": "display_data"
    }
   ],
   "source": [
    "sns.factorplot('studytime',kind='count', hue='underperformance',data=df,palette='coolwarm')\n"
   ]
  },
  {
   "cell_type": "markdown",
   "metadata": {},
   "source": [
    "# We see that studytime also has decent correlation with underperformance the more you study more likely you will do well but compared to other variables  this variables correlation is less"
   ]
  },
  {
   "cell_type": "code",
   "execution_count": 70,
   "metadata": {},
   "outputs": [
    {
     "data": {
      "text/plain": [
       "<seaborn.axisgrid.FacetGrid at 0x2231b1bfe50>"
      ]
     },
     "execution_count": 70,
     "metadata": {},
     "output_type": "execute_result"
    },
    {
     "data": {
      "image/png": "[encoded data removed]",
      "text/plain": [
       "<Figure size 461.25x360 with 1 Axes>"
      ]
     },
     "metadata": {
      "needs_background": "light"
     },
     "output_type": "display_data"
    }
   ],
   "source": [
    "sns.factorplot('Math_G1',kind='count', hue='underperformance',data=df,palette='coolwarm')"
   ]
  },
  {
   "cell_type": "markdown",
   "metadata": {},
   "source": [
    "# We could see the Math_G1 has a big correlation with underperformance.If you do bad on Math_G1 then you will most likely underperform\n"
   ]
  },
  {
   "cell_type": "code",
   "execution_count": 71,
   "metadata": {},
   "outputs": [
    {
     "data": {
      "text/plain": [
       "<seaborn.axisgrid.FacetGrid at 0x2231c130b50>"
      ]
     },
     "execution_count": 71,
     "metadata": {},
     "output_type": "execute_result"
    },
    {
     "data": {
      "image/png": "[encoded data removed]",
      "text/plain": [
       "<Figure size 461.25x360 with 1 Axes>"
      ]
     },
     "metadata": {
      "needs_background": "light"
     },
     "output_type": "display_data"
    }
   ],
   "source": [
    "sns.factorplot('Language_G1',kind='count', hue='underperformance',data=df,palette='coolwarm')"
   ]
  },
  {
   "cell_type": "markdown",
   "metadata": {},
   "source": [
    "# We could see that language_G1 has a decent corelation with underperformance if you perform well on the language_G1 you are liekly to perform better on the math Final"
   ]
  },
  {
   "cell_type": "code",
   "execution_count": 72,
   "metadata": {},
   "outputs": [],
   "source": [
    "firstset= df[['failures','Walc','traveltime','studytime', 'underperformance']]\n",
    "\n",
    "\n"
   ]
  },
  {
   "cell_type": "markdown",
   "metadata": {},
   "source": [
    " We are going to use all of these variables from above to train and  test"
   ]
  },
  {
   "cell_type": "markdown",
   "metadata": {},
   "source": [
    "# Some of the dummy variables below"
   ]
  },
  {
   "cell_type": "code",
   "execution_count": 73,
   "metadata": {},
   "outputs": [],
   "source": [
    "internet = pd.get_dummies(df['internet'],drop_first=True)\n",
    "support = pd.get_dummies(df['famsup'],drop_first=True)\n",
    "\n",
    "higher_edu = pd.get_dummies(df['higher'],drop_first=True)\n",
    "school_support = pd.get_dummies(df['schoolsup'],drop_first=True)\n"
   ]
  },
  {
   "cell_type": "code",
   "execution_count": 74,
   "metadata": {},
   "outputs": [
    {
     "data": {
      "text/html": [
       "<div>\n",
       "<style scoped>\n",
       "    .dataframe tbody tr th:only-of-type {\n",
       "        vertical-align: middle;\n",
       "    }\n",
       "\n",
       "    .dataframe tbody tr th {\n",
       "        vertical-align: top;\n",
       "    }\n",
       "\n",
       "    .dataframe thead th {\n",
       "        text-align: right;\n",
       "    }\n",
       "</style>\n",
       "<table border=\"1\" class=\"dataframe\">\n",
       "  <thead>\n",
       "    <tr style=\"text-align: right;\">\n",
       "      <th></th>\n",
       "      <th>failures</th>\n",
       "      <th>Walc</th>\n",
       "      <th>traveltime</th>\n",
       "      <th>studytime</th>\n",
       "      <th>underperformance</th>\n",
       "      <th>yes</th>\n",
       "      <th>yes</th>\n",
       "      <th>yes</th>\n",
       "      <th>yes</th>\n",
       "    </tr>\n",
       "  </thead>\n",
       "  <tbody>\n",
       "    <tr>\n",
       "      <th>0</th>\n",
       "      <td>0</td>\n",
       "      <td>1</td>\n",
       "      <td>2</td>\n",
       "      <td>2</td>\n",
       "      <td>1</td>\n",
       "      <td>0</td>\n",
       "      <td>0</td>\n",
       "      <td>1</td>\n",
       "      <td>1</td>\n",
       "    </tr>\n",
       "    <tr>\n",
       "      <th>1</th>\n",
       "      <td>0</td>\n",
       "      <td>1</td>\n",
       "      <td>1</td>\n",
       "      <td>2</td>\n",
       "      <td>1</td>\n",
       "      <td>1</td>\n",
       "      <td>1</td>\n",
       "      <td>1</td>\n",
       "      <td>0</td>\n",
       "    </tr>\n",
       "    <tr>\n",
       "      <th>2</th>\n",
       "      <td>3</td>\n",
       "      <td>3</td>\n",
       "      <td>1</td>\n",
       "      <td>2</td>\n",
       "      <td>0</td>\n",
       "      <td>1</td>\n",
       "      <td>0</td>\n",
       "      <td>1</td>\n",
       "      <td>1</td>\n",
       "    </tr>\n",
       "    <tr>\n",
       "      <th>3</th>\n",
       "      <td>0</td>\n",
       "      <td>1</td>\n",
       "      <td>1</td>\n",
       "      <td>3</td>\n",
       "      <td>0</td>\n",
       "      <td>1</td>\n",
       "      <td>1</td>\n",
       "      <td>1</td>\n",
       "      <td>0</td>\n",
       "    </tr>\n",
       "    <tr>\n",
       "      <th>4</th>\n",
       "      <td>0</td>\n",
       "      <td>2</td>\n",
       "      <td>1</td>\n",
       "      <td>2</td>\n",
       "      <td>0</td>\n",
       "      <td>0</td>\n",
       "      <td>1</td>\n",
       "      <td>1</td>\n",
       "      <td>0</td>\n",
       "    </tr>\n",
       "  </tbody>\n",
       "</table>\n",
       "</div>"
      ],
      "text/plain": [
       "   failures  Walc  traveltime  studytime  underperformance  yes  yes  yes  yes\n",
       "0         0     1           2          2                 1    0    0    1    1\n",
       "1         0     1           1          2                 1    1    1    1    0\n",
       "2         3     3           1          2                 0    1    0    1    1\n",
       "3         0     1           1          3                 0    1    1    1    0\n",
       "4         0     2           1          2                 0    0    1    1    0"
      ]
     },
     "execution_count": 74,
     "metadata": {},
     "output_type": "execute_result"
    }
   ],
   "source": [
    "df1=pd.concat([firstset,internet,support,higher_edu,school_support], axis=1)\n",
    "df1.head()"
   ]
  },
  {
   "cell_type": "code",
   "execution_count": 75,
   "metadata": {},
   "outputs": [
    {
     "name": "stdout",
     "output_type": "stream",
     "text": [
      "              precision    recall  f1-score   support\n",
      "\n",
      "           0       0.85      0.95      0.90        64\n",
      "           1       0.40      0.15      0.22        13\n",
      "\n",
      "    accuracy                           0.82        77\n",
      "   macro avg       0.62      0.55      0.56        77\n",
      "weighted avg       0.77      0.82      0.78        77\n",
      "\n",
      "0.8181818181818182\n"
     ]
    }
   ],
   "source": [
    "X_train, X_test, Y_train, Y_test = train_test_split(df1.drop('underperformance',axis=1), \n",
    "                                                    df1['underperformance'], test_size=0.20, \n",
    "                                                    random_state=101)\n",
    "model = LogisticRegression()\n",
    "model.fit(X_train,Y_train)\n",
    "predictions = model.predict(X_test)\n",
    "print(classification_report(Y_test,predictions))\n",
    "print(accuracy_score(Y_test, predictions))"
   ]
  },
  {
   "cell_type": "markdown",
   "metadata": {},
   "source": [
    "# So for this model we didn't include Math_G1 and Language_G1 and included all the other variables from above and based on the result we see that  we had an accuracy of about 81% with f1 score being .22 and recall value of.15"
   ]
  },
  {
   "cell_type": "code",
   "execution_count": 76,
   "metadata": {},
   "outputs": [
    {
     "name": "stdout",
     "output_type": "stream",
     "text": [
      "Accuracy_Score for Trial 0,  0.7272727272727273\n",
      "Accuracy_Score for Trial 1,  0.7142857142857143\n",
      "Accuracy_Score for Trial 2,  0.8051948051948052\n",
      "Accuracy_Score for Trial 3,  0.7402597402597403\n",
      "Accuracy_Score for Trial 4,  0.7792207792207793\n",
      "Accuracy_Score for Trial 5,  0.7792207792207793\n",
      "Accuracy_Score for Trial 6,  0.6883116883116883\n",
      "Accuracy_Score for Trial 7,  0.7532467532467533\n",
      "Accuracy_Score for Trial 8,  0.7402597402597403\n",
      "Accuracy_Score for Trial 9,  0.7012987012987013\n"
     ]
    }
   ],
   "source": [
    "accuracy = []\n",
    "\n",
    "for i in range(10):\n",
    "    X_train, X_test, Y_train, Y_test = train_test_split(df1.drop('underperformance',axis=1), \n",
    "                                                    df1['underperformance'], test_size=0.20, random_state = random.randint(1,1000))\n",
    "    model = LogisticRegression()\n",
    "    model.fit(X_train, Y_train)\n",
    "    Y_pred = model.predict(X_test)\n",
    "    accuracy.append(metrics.accuracy_score(Y_test, Y_pred))\n",
    "    print('Accuracy_Score for Trial {},  {}'.format(i,accuracy[i]))\n"
   ]
  },
  {
   "cell_type": "markdown",
   "metadata": {},
   "source": [
    "# The cross validation here looks pretty consistent with the Acurracy of our model, but not that perfect"
   ]
  },
  {
   "cell_type": "code",
   "execution_count": 77,
   "metadata": {},
   "outputs": [
    {
     "data": {
      "text/html": [
       "<div>\n",
       "<style scoped>\n",
       "    .dataframe tbody tr th:only-of-type {\n",
       "        vertical-align: middle;\n",
       "    }\n",
       "\n",
       "    .dataframe tbody tr th {\n",
       "        vertical-align: top;\n",
       "    }\n",
       "\n",
       "    .dataframe thead th {\n",
       "        text-align: right;\n",
       "    }\n",
       "</style>\n",
       "<table border=\"1\" class=\"dataframe\">\n",
       "  <thead>\n",
       "    <tr style=\"text-align: right;\">\n",
       "      <th></th>\n",
       "      <th>failures</th>\n",
       "      <th>Walc</th>\n",
       "      <th>traveltime</th>\n",
       "      <th>studytime</th>\n",
       "      <th>underperformance</th>\n",
       "      <th>Math_G1</th>\n",
       "      <th>yes</th>\n",
       "      <th>yes</th>\n",
       "      <th>yes</th>\n",
       "      <th>yes</th>\n",
       "    </tr>\n",
       "  </thead>\n",
       "  <tbody>\n",
       "    <tr>\n",
       "      <th>391</th>\n",
       "      <td>2</td>\n",
       "      <td>5</td>\n",
       "      <td>1</td>\n",
       "      <td>2</td>\n",
       "      <td>0</td>\n",
       "      <td>9.0</td>\n",
       "      <td>0</td>\n",
       "      <td>1</td>\n",
       "      <td>1</td>\n",
       "      <td>0</td>\n",
       "    </tr>\n",
       "    <tr>\n",
       "      <th>392</th>\n",
       "      <td>0</td>\n",
       "      <td>4</td>\n",
       "      <td>2</td>\n",
       "      <td>1</td>\n",
       "      <td>0</td>\n",
       "      <td>14.0</td>\n",
       "      <td>1</td>\n",
       "      <td>0</td>\n",
       "      <td>1</td>\n",
       "      <td>0</td>\n",
       "    </tr>\n",
       "    <tr>\n",
       "      <th>393</th>\n",
       "      <td>3</td>\n",
       "      <td>3</td>\n",
       "      <td>1</td>\n",
       "      <td>1</td>\n",
       "      <td>1</td>\n",
       "      <td>10.0</td>\n",
       "      <td>0</td>\n",
       "      <td>0</td>\n",
       "      <td>1</td>\n",
       "      <td>0</td>\n",
       "    </tr>\n",
       "    <tr>\n",
       "      <th>394</th>\n",
       "      <td>0</td>\n",
       "      <td>4</td>\n",
       "      <td>3</td>\n",
       "      <td>1</td>\n",
       "      <td>0</td>\n",
       "      <td>11.0</td>\n",
       "      <td>1</td>\n",
       "      <td>0</td>\n",
       "      <td>1</td>\n",
       "      <td>0</td>\n",
       "    </tr>\n",
       "    <tr>\n",
       "      <th>396</th>\n",
       "      <td>0</td>\n",
       "      <td>3</td>\n",
       "      <td>1</td>\n",
       "      <td>1</td>\n",
       "      <td>0</td>\n",
       "      <td>8.0</td>\n",
       "      <td>1</td>\n",
       "      <td>0</td>\n",
       "      <td>1</td>\n",
       "      <td>0</td>\n",
       "    </tr>\n",
       "  </tbody>\n",
       "</table>\n",
       "</div>"
      ],
      "text/plain": [
       "     failures  Walc  traveltime  studytime  underperformance  Math_G1  yes  \\\n",
       "391         2     5           1          2                 0      9.0    0   \n",
       "392         0     4           2          1                 0     14.0    1   \n",
       "393         3     3           1          1                 1     10.0    0   \n",
       "394         0     4           3          1                 0     11.0    1   \n",
       "396         0     3           1          1                 0      8.0    1   \n",
       "\n",
       "     yes  yes  yes  \n",
       "391    1    1    0  \n",
       "392    0    1    0  \n",
       "393    0    1    0  \n",
       "394    0    1    0  \n",
       "396    0    1    0  "
      ]
     },
     "execution_count": 77,
     "metadata": {},
     "output_type": "execute_result"
    }
   ],
   "source": [
    "secondset = df[['failures','Walc','traveltime','studytime','underperformance','Math_G1']]\n",
    "\n",
    "\n",
    "df2=pd.concat([secondset,internet,support,higher_edu,school_support], axis=1)\n",
    "df2.tail()"
   ]
  },
  {
   "cell_type": "code",
   "execution_count": 78,
   "metadata": {},
   "outputs": [
    {
     "name": "stdout",
     "output_type": "stream",
     "text": [
      "              precision    recall  f1-score   support\n",
      "\n",
      "           0       0.94      0.94      0.94        64\n",
      "           1       0.69      0.69      0.69        13\n",
      "\n",
      "    accuracy                           0.90        77\n",
      "   macro avg       0.81      0.81      0.81        77\n",
      "weighted avg       0.90      0.90      0.90        77\n",
      "\n",
      "0.8961038961038961\n"
     ]
    }
   ],
   "source": [
    "X2_train, X2_test, Y2_train, Y2_test = train_test_split(df2.drop('underperformance',axis=1), \n",
    "                                                    df2['underperformance'], test_size=0.20, \n",
    "                                                    random_state=101)\n",
    "model2 = LogisticRegression(solver='liblinear')\n",
    "model2.fit(X2_train,Y2_train)\n",
    "predictions2 = model2.predict(X2_test)\n",
    "print(classification_report(Y2_test,predictions2))\n",
    "print(accuracy_score(Y2_test, predictions2))"
   ]
  },
  {
   "cell_type": "markdown",
   "metadata": {},
   "source": [
    "# Here after adding the Math_G1 variable we see a significant improvent on the accuracy score which is about 89%.Also the f1 score is about .69 and recall is .69 as well so a great improvement overall after adding the Math_G1 variable"
   ]
  },
  {
   "cell_type": "code",
   "execution_count": 79,
   "metadata": {},
   "outputs": [
    {
     "name": "stdout",
     "output_type": "stream",
     "text": [
      "Accuracy_Score for Trial 0,  0.8961038961038961\n",
      "Accuracy_Score for Trial 1,  0.8571428571428571\n",
      "Accuracy_Score for Trial 2,  0.8961038961038961\n",
      "Accuracy_Score for Trial 3,  0.8831168831168831\n",
      "Accuracy_Score for Trial 4,  0.8571428571428571\n",
      "Accuracy_Score for Trial 5,  0.8441558441558441\n",
      "Accuracy_Score for Trial 6,  0.8701298701298701\n",
      "Accuracy_Score for Trial 7,  0.8571428571428571\n",
      "Accuracy_Score for Trial 8,  0.8441558441558441\n",
      "Accuracy_Score for Trial 9,  0.8701298701298701\n"
     ]
    }
   ],
   "source": [
    "\n",
    "\n",
    "accuracy2 = []\n",
    "\n",
    "for i in range(10):\n",
    "    X2_train, X2_test, Y2_train, Y2_test = train_test_split(df2.drop('underperformance',axis=1), \n",
    "                                                    df2['underperformance'], test_size=0.20, random_state = random.randint(1,1000))\n",
    "    model2 = LogisticRegression(solver='liblinear')\n",
    "    model2.fit(X2_train, Y2_train)\n",
    "    Y2_pred = model2.predict(X2_test)\n",
    "    accuracy2.append(metrics.accuracy_score(Y2_test, Y2_pred))\n",
    "    print('Accuracy_Score for Trial {},  {}'.format(i,accuracy2[i]))\n"
   ]
  },
  {
   "cell_type": "markdown",
   "metadata": {},
   "source": [
    "# The cross valiadtion is close to the accuracy score so we  could say it is somehwat consistent"
   ]
  },
  {
   "cell_type": "code",
   "execution_count": 80,
   "metadata": {},
   "outputs": [
    {
     "data": {
      "text/html": [
       "<div>\n",
       "<style scoped>\n",
       "    .dataframe tbody tr th:only-of-type {\n",
       "        vertical-align: middle;\n",
       "    }\n",
       "\n",
       "    .dataframe tbody tr th {\n",
       "        vertical-align: top;\n",
       "    }\n",
       "\n",
       "    .dataframe thead th {\n",
       "        text-align: right;\n",
       "    }\n",
       "</style>\n",
       "<table border=\"1\" class=\"dataframe\">\n",
       "  <thead>\n",
       "    <tr style=\"text-align: right;\">\n",
       "      <th></th>\n",
       "      <th>failures</th>\n",
       "      <th>Walc</th>\n",
       "      <th>traveltime</th>\n",
       "      <th>Math_G1</th>\n",
       "      <th>studytime</th>\n",
       "      <th>Language_G1</th>\n",
       "      <th>underperformance</th>\n",
       "      <th>yes</th>\n",
       "      <th>yes</th>\n",
       "      <th>yes</th>\n",
       "      <th>yes</th>\n",
       "    </tr>\n",
       "  </thead>\n",
       "  <tbody>\n",
       "    <tr>\n",
       "      <th>391</th>\n",
       "      <td>2</td>\n",
       "      <td>5</td>\n",
       "      <td>1</td>\n",
       "      <td>9.0</td>\n",
       "      <td>2</td>\n",
       "      <td>14</td>\n",
       "      <td>0</td>\n",
       "      <td>0</td>\n",
       "      <td>1</td>\n",
       "      <td>1</td>\n",
       "      <td>0</td>\n",
       "    </tr>\n",
       "    <tr>\n",
       "      <th>392</th>\n",
       "      <td>0</td>\n",
       "      <td>4</td>\n",
       "      <td>2</td>\n",
       "      <td>14.0</td>\n",
       "      <td>1</td>\n",
       "      <td>11</td>\n",
       "      <td>0</td>\n",
       "      <td>1</td>\n",
       "      <td>0</td>\n",
       "      <td>1</td>\n",
       "      <td>0</td>\n",
       "    </tr>\n",
       "    <tr>\n",
       "      <th>393</th>\n",
       "      <td>3</td>\n",
       "      <td>3</td>\n",
       "      <td>1</td>\n",
       "      <td>10.0</td>\n",
       "      <td>1</td>\n",
       "      <td>12</td>\n",
       "      <td>1</td>\n",
       "      <td>0</td>\n",
       "      <td>0</td>\n",
       "      <td>1</td>\n",
       "      <td>0</td>\n",
       "    </tr>\n",
       "    <tr>\n",
       "      <th>394</th>\n",
       "      <td>0</td>\n",
       "      <td>4</td>\n",
       "      <td>3</td>\n",
       "      <td>11.0</td>\n",
       "      <td>1</td>\n",
       "      <td>14</td>\n",
       "      <td>0</td>\n",
       "      <td>1</td>\n",
       "      <td>0</td>\n",
       "      <td>1</td>\n",
       "      <td>0</td>\n",
       "    </tr>\n",
       "    <tr>\n",
       "      <th>396</th>\n",
       "      <td>0</td>\n",
       "      <td>3</td>\n",
       "      <td>1</td>\n",
       "      <td>8.0</td>\n",
       "      <td>1</td>\n",
       "      <td>14</td>\n",
       "      <td>0</td>\n",
       "      <td>1</td>\n",
       "      <td>0</td>\n",
       "      <td>1</td>\n",
       "      <td>0</td>\n",
       "    </tr>\n",
       "  </tbody>\n",
       "</table>\n",
       "</div>"
      ],
      "text/plain": [
       "     failures  Walc  traveltime  Math_G1  studytime  Language_G1  \\\n",
       "391         2     5           1      9.0          2           14   \n",
       "392         0     4           2     14.0          1           11   \n",
       "393         3     3           1     10.0          1           12   \n",
       "394         0     4           3     11.0          1           14   \n",
       "396         0     3           1      8.0          1           14   \n",
       "\n",
       "     underperformance  yes  yes  yes  yes  \n",
       "391                 0    0    1    1    0  \n",
       "392                 0    1    0    1    0  \n",
       "393                 1    0    0    1    0  \n",
       "394                 0    1    0    1    0  \n",
       "396                 0    1    0    1    0  "
      ]
     },
     "execution_count": 80,
     "metadata": {},
     "output_type": "execute_result"
    }
   ],
   "source": [
    "thirdset = df[['failures','Walc','traveltime','Math_G1','studytime','Language_G1','underperformance']]\n",
    "\n",
    "df3=pd.concat([thirdset,internet,support,higher_edu,school_support], axis=1)\n",
    "df3.tail()"
   ]
  },
  {
   "cell_type": "code",
   "execution_count": 81,
   "metadata": {},
   "outputs": [
    {
     "name": "stdout",
     "output_type": "stream",
     "text": [
      "              precision    recall  f1-score   support\n",
      "\n",
      "           0       0.95      0.91      0.93        64\n",
      "           1       0.62      0.77      0.69        13\n",
      "\n",
      "    accuracy                           0.88        77\n",
      "   macro avg       0.79      0.84      0.81        77\n",
      "weighted avg       0.90      0.88      0.89        77\n",
      "\n",
      "0.8831168831168831\n"
     ]
    }
   ],
   "source": [
    "X3_train, X3_test, Y3_train, Y3_test = train_test_split(df3.drop('underperformance',axis=1), \n",
    "                                                    df3['underperformance'], test_size=0.20, \n",
    "                                                    random_state=101)\n",
    "model3 = LogisticRegression(solver='liblinear')\n",
    "model3.fit(X3_train,Y3_train)\n",
    "predictions3 = model3.predict(X3_test)\n",
    "print(classification_report(Y3_test,predictions3))\n",
    "print(accuracy_score(Y3_test, predictions3))"
   ]
  },
  {
   "cell_type": "markdown",
   "metadata": {},
   "source": [
    "# After the addition of Language_G1 variable with the Math_G1 variable the accurecy score dropped a little bit.The reason could be that we are clustering too many variabales in a model but the f1 score remains same and the recall went up to .77.So we can conclude that this is almost good as our 2nd model with high accurecy score,f1 score and recall."
   ]
  },
  {
   "cell_type": "code",
   "execution_count": 82,
   "metadata": {},
   "outputs": [
    {
     "name": "stdout",
     "output_type": "stream",
     "text": [
      "Accuracy_Score for Trial 0,  0.8831168831168831\n",
      "Accuracy_Score for Trial 1,  0.8571428571428571\n",
      "Accuracy_Score for Trial 2,  0.935064935064935\n",
      "Accuracy_Score for Trial 3,  0.8441558441558441\n",
      "Accuracy_Score for Trial 4,  0.8441558441558441\n",
      "Accuracy_Score for Trial 5,  0.9090909090909091\n",
      "Accuracy_Score for Trial 6,  0.8571428571428571\n",
      "Accuracy_Score for Trial 7,  0.8571428571428571\n",
      "Accuracy_Score for Trial 8,  0.8831168831168831\n",
      "Accuracy_Score for Trial 9,  0.8961038961038961\n"
     ]
    }
   ],
   "source": [
    "\n",
    "\n",
    "accuracy3 = []\n",
    "\n",
    "for i in range(10):\n",
    "    X3_train, X3_test, Y3_train, Y3_test = train_test_split(df3.drop('underperformance',axis=1), \n",
    "                                                    df3['underperformance'], test_size=0.20, random_state = random.randint(1,1000))\n",
    "    model3 = LogisticRegression(solver='liblinear')\n",
    "    model3.fit(X3_train, Y3_train)\n",
    "    Y3_pred = model3.predict(X3_test)\n",
    "    accuracy3.append(metrics.accuracy_score(Y3_test, Y3_pred))\n",
    "    print('Accuracy_Score for Trial {},  {}'.format(i,accuracy3[i]))"
   ]
  },
  {
   "cell_type": "markdown",
   "metadata": {},
   "source": [
    "# The cross validation again looks pretty good and somewhat matches with the accuracy but there is a little difference."
   ]
  },
  {
   "cell_type": "markdown",
   "metadata": {},
   "source": [
    "# Overall we could say that Math_G1 variable has strong correlation with underperformance so if the Math_G1 is great then the final Math exam performance would be great too .Language_g1 will have some impact on the performance but not as the way Math_G1 would"
   ]
  }
 ],
 "metadata": {
  "kernelspec": {
   "display_name": "Python 3",
   "language": "python",
   "name": "python3"
  },
  "language_info": {
   "codemirror_mode": {
    "name": "ipython",
    "version": 3
   },
   "file_extension": ".py",
   "mimetype": "text/x-python",
   "name": "python",
   "nbconvert_exporter": "python",
   "pygments_lexer": "ipython3",
   "version": "3.8.5"
  }
 },
 "nbformat": 4,
 "nbformat_minor": 2
}
